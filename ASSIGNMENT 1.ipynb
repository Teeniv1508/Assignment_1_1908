{
 "cells": [
  {
   "cell_type": "code",
   "execution_count": 1,
   "id": "43136213-8aa7-46cd-9e7e-e7059555169f",
   "metadata": {},
   "outputs": [],
   "source": [
    "# Python Basic Variable"
   ]
  },
  {
   "cell_type": "code",
   "execution_count": 2,
   "id": "ccdb3f5f-6d9a-480e-803a-89cfb8d1f76d",
   "metadata": {},
   "outputs": [],
   "source": [
    "# Q1)"
   ]
  },
  {
   "cell_type": "code",
   "execution_count": 3,
   "id": "725e7657-0097-47c4-b8bc-698be5dd3a3b",
   "metadata": {},
   "outputs": [],
   "source": [
    "# Assign the integer values\n",
    "x = 10\n",
    "y = 5"
   ]
  },
  {
   "cell_type": "code",
   "execution_count": 4,
   "id": "6c9b7311-bb16-4117-8953-ed4aff087622",
   "metadata": {},
   "outputs": [],
   "source": [
    "# Swap the values\n",
    "x,y = y,x"
   ]
  },
  {
   "cell_type": "code",
   "execution_count": 5,
   "id": "f4acab49-ec37-448a-8ece-957232b7afc2",
   "metadata": {},
   "outputs": [
    {
     "data": {
      "text/plain": [
       "5"
      ]
     },
     "execution_count": 5,
     "metadata": {},
     "output_type": "execute_result"
    }
   ],
   "source": [
    "#Swapped x value\n",
    "x"
   ]
  },
  {
   "cell_type": "code",
   "execution_count": 6,
   "id": "bef1bb80-a92e-44d9-a021-7f85e11c4987",
   "metadata": {},
   "outputs": [
    {
     "data": {
      "text/plain": [
       "10"
      ]
     },
     "execution_count": 6,
     "metadata": {},
     "output_type": "execute_result"
    }
   ],
   "source": [
    "#Swapped y value\n",
    "y"
   ]
  },
  {
   "cell_type": "code",
   "execution_count": 21,
   "id": "ce3945bc-1321-4383-b130-f0b36646eeed",
   "metadata": {},
   "outputs": [],
   "source": [
    "# Q2)"
   ]
  },
  {
   "cell_type": "code",
   "execution_count": 8,
   "id": "324859f9-21ae-453e-952a-b7d4f2d6530a",
   "metadata": {},
   "outputs": [
    {
     "name": "stdin",
     "output_type": "stream",
     "text": [
      " 5\n",
      " 6\n"
     ]
    }
   ],
   "source": [
    "# Taking Lenght and Width from user\n",
    "l = int(input())\n",
    "b = int(input())"
   ]
  },
  {
   "cell_type": "code",
   "execution_count": 9,
   "id": "ec2fe8e9-0199-48ae-9367-59137804a8e8",
   "metadata": {},
   "outputs": [],
   "source": [
    "# Formula for area of rectangle\n",
    "area = l*b"
   ]
  },
  {
   "cell_type": "code",
   "execution_count": 10,
   "id": "c170052d-e6b5-41b7-8853-62dd03b41c3a",
   "metadata": {},
   "outputs": [
    {
     "data": {
      "text/plain": [
       "30"
      ]
     },
     "execution_count": 10,
     "metadata": {},
     "output_type": "execute_result"
    }
   ],
   "source": [
    "# Area of rectangle\n",
    "area"
   ]
  },
  {
   "cell_type": "code",
   "execution_count": 11,
   "id": "aa48f89e-472a-4cf7-b3e8-bf4fa0f62cfb",
   "metadata": {},
   "outputs": [],
   "source": [
    "# Q3)"
   ]
  },
  {
   "cell_type": "code",
   "execution_count": 12,
   "id": "6b5cdeda-f3f9-423d-9279-92f85e2404d8",
   "metadata": {},
   "outputs": [
    {
     "name": "stdin",
     "output_type": "stream",
     "text": [
      " 45\n"
     ]
    }
   ],
   "source": [
    "# Taking temperature in Celsius from user\n",
    "tempC = int(input())"
   ]
  },
  {
   "cell_type": "code",
   "execution_count": 13,
   "id": "90089059-1ca3-43b1-bcca-963aed540f00",
   "metadata": {},
   "outputs": [
    {
     "data": {
      "text/plain": [
       "45"
      ]
     },
     "execution_count": 13,
     "metadata": {},
     "output_type": "execute_result"
    }
   ],
   "source": [
    "# Temperature in Celsius\n",
    "tempC"
   ]
  },
  {
   "cell_type": "code",
   "execution_count": 14,
   "id": "ea213b1c-4f29-486a-b692-0f4aaa7c49da",
   "metadata": {},
   "outputs": [],
   "source": [
    "# Formula for converting temperature from Celsius to Fahrenheit\n",
    "tempF = ((tempC*1.8)+32)"
   ]
  },
  {
   "cell_type": "code",
   "execution_count": 15,
   "id": "d0cd4540-da45-494b-ab36-5bd028985d9b",
   "metadata": {},
   "outputs": [
    {
     "data": {
      "text/plain": [
       "113.0"
      ]
     },
     "execution_count": 15,
     "metadata": {},
     "output_type": "execute_result"
    }
   ],
   "source": [
    "# Temperature in Fahrenheit\n",
    "tempF"
   ]
  },
  {
   "cell_type": "code",
   "execution_count": 16,
   "id": "8cec12a1-9df6-4e64-a482-dd659442ecf8",
   "metadata": {},
   "outputs": [],
   "source": [
    "# String Based Question"
   ]
  },
  {
   "cell_type": "code",
   "execution_count": 17,
   "id": "539094d3-d8b0-4b04-a566-1259fb4d2380",
   "metadata": {},
   "outputs": [],
   "source": [
    "# Q1)"
   ]
  },
  {
   "cell_type": "code",
   "execution_count": 18,
   "id": "b49b2c84-7da7-4cb3-add1-32fb3c8a3bab",
   "metadata": {},
   "outputs": [
    {
     "name": "stdin",
     "output_type": "stream",
     "text": [
      " Hello World\n"
     ]
    }
   ],
   "source": [
    "# Taking string from user\n",
    "sentence = str(input())"
   ]
  },
  {
   "cell_type": "code",
   "execution_count": 20,
   "id": "9de53890-d40a-4c3f-9f1c-7bc3e240094a",
   "metadata": {},
   "outputs": [
    {
     "data": {
      "text/plain": [
       "11"
      ]
     },
     "execution_count": 20,
     "metadata": {},
     "output_type": "execute_result"
    }
   ],
   "source": [
    "# Counting the lenght of the string\n",
    "len(sentence)"
   ]
  },
  {
   "cell_type": "code",
   "execution_count": 22,
   "id": "9af443aa-2a29-4d1f-a0d3-e570fdd40391",
   "metadata": {},
   "outputs": [],
   "source": [
    "# Q2)"
   ]
  },
  {
   "cell_type": "code",
   "execution_count": 23,
   "id": "03a53030-112b-4c01-b482-e0b721cd80f2",
   "metadata": {},
   "outputs": [
    {
     "name": "stdin",
     "output_type": "stream",
     "text": [
      " All Eye Ice Oil Under\n"
     ]
    }
   ],
   "source": [
    "# Taking string from user\n",
    "s = str(input())"
   ]
  },
  {
   "cell_type": "code",
   "execution_count": 26,
   "id": "1c9a3ccd-1d1a-4e6d-b4a2-562349279fcd",
   "metadata": {},
   "outputs": [],
   "source": [
    "# Formula to count number of vowels in string\n",
    "Result = s.count('a')+s.count('e')+s.count('i')+s.count('0')+s.count('u')+s.count('A')+s.count('E')+s.count('I')+s.count('O')+s.count('U')"
   ]
  },
  {
   "cell_type": "code",
   "execution_count": 27,
   "id": "c84c66ec-89d8-4ba7-9abc-03f8de51ad22",
   "metadata": {},
   "outputs": [
    {
     "data": {
      "text/plain": [
       "9"
      ]
     },
     "execution_count": 27,
     "metadata": {},
     "output_type": "execute_result"
    }
   ],
   "source": [
    "# Total numver of vowels\n",
    "Result"
   ]
  },
  {
   "cell_type": "code",
   "execution_count": 28,
   "id": "e10a5250-c3fa-4f8b-870b-9b22678dbe8d",
   "metadata": {},
   "outputs": [],
   "source": [
    "# Q3)"
   ]
  },
  {
   "cell_type": "code",
   "execution_count": 30,
   "id": "5fe8b2b5-99de-4633-94e0-3046fa7a971b",
   "metadata": {},
   "outputs": [
    {
     "name": "stdin",
     "output_type": "stream",
     "text": [
      " My name is Vineet Bhoge\n"
     ]
    }
   ],
   "source": [
    "# Taking string as input\n",
    "a = str(input())"
   ]
  },
  {
   "cell_type": "code",
   "execution_count": 31,
   "id": "e52a2642-0d59-475d-a0e3-8f0a5c50bbfb",
   "metadata": {},
   "outputs": [
    {
     "data": {
      "text/plain": [
       "'egohB teeniV si eman yM'"
      ]
     },
     "execution_count": 31,
     "metadata": {},
     "output_type": "execute_result"
    }
   ],
   "source": [
    "# Reverse the order of characters using string slicing\n",
    "a [::-1]"
   ]
  },
  {
   "cell_type": "code",
   "execution_count": 33,
   "id": "5ab97828-a54b-4920-9c4d-e03d3795c422",
   "metadata": {},
   "outputs": [],
   "source": [
    "# Q4)"
   ]
  },
  {
   "cell_type": "code",
   "execution_count": 34,
   "id": "7ab480b9-b2ed-471f-b61b-8493a993e944",
   "metadata": {},
   "outputs": [
    {
     "name": "stdin",
     "output_type": "stream",
     "text": [
      " level\n"
     ]
    }
   ],
   "source": [
    "# Taking string as input\n",
    "p = str(input())"
   ]
  },
  {
   "cell_type": "code",
   "execution_count": 35,
   "id": "5779c7d1-d0b4-45a7-833b-57bcfcb261fc",
   "metadata": {},
   "outputs": [],
   "source": [
    "# Reversing the string\n",
    "r = p[::-1]"
   ]
  },
  {
   "cell_type": "code",
   "execution_count": 36,
   "id": "98446b07-e510-4526-8d3c-9e0a00481856",
   "metadata": {},
   "outputs": [
    {
     "data": {
      "text/plain": [
       "True"
      ]
     },
     "execution_count": 36,
     "metadata": {},
     "output_type": "execute_result"
    }
   ],
   "source": [
    "# Checking if both strings are same\n",
    "p == r"
   ]
  },
  {
   "cell_type": "code",
   "execution_count": 37,
   "id": "7b3983ce-d857-4eef-bfd4-de1f0e84c50f",
   "metadata": {},
   "outputs": [],
   "source": [
    "# Q5) "
   ]
  },
  {
   "cell_type": "code",
   "execution_count": 38,
   "id": "218867cc-2b2e-478b-9855-3b1bc185a6ab",
   "metadata": {},
   "outputs": [
    {
     "name": "stdin",
     "output_type": "stream",
     "text": [
      " Hi my name is Vineet Bhoge\n"
     ]
    }
   ],
   "source": [
    "# Taking string from user\n",
    "ws = str(input())"
   ]
  },
  {
   "cell_type": "code",
   "execution_count": 39,
   "id": "e8f564bc-42a3-4301-b762-a753dd13f897",
   "metadata": {},
   "outputs": [],
   "source": [
    "# Removing the spaces\n",
    "wts = ws.replace(\" \",\"\")"
   ]
  },
  {
   "cell_type": "code",
   "execution_count": 40,
   "id": "a03b850e-1df4-4c8d-99d5-aaa47f847553",
   "metadata": {},
   "outputs": [
    {
     "data": {
      "text/plain": [
       "'HimynameisVineetBhoge'"
      ]
     },
     "execution_count": 40,
     "metadata": {},
     "output_type": "execute_result"
    }
   ],
   "source": [
    "# Print without space\n",
    "wts"
   ]
  },
  {
   "cell_type": "code",
   "execution_count": null,
   "id": "4345243f-11ed-4563-996c-8baf729697ed",
   "metadata": {},
   "outputs": [],
   "source": []
  }
 ],
 "metadata": {
  "kernelspec": {
   "display_name": "Python 3 (ipykernel)",
   "language": "python",
   "name": "python3"
  },
  "language_info": {
   "codemirror_mode": {
    "name": "ipython",
    "version": 3
   },
   "file_extension": ".py",
   "mimetype": "text/x-python",
   "name": "python",
   "nbconvert_exporter": "python",
   "pygments_lexer": "ipython3",
   "version": "3.10.8"
  }
 },
 "nbformat": 4,
 "nbformat_minor": 5
}
